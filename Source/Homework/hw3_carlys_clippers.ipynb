{
 "cells": [
  {
   "cell_type": "markdown",
   "id": "64444829-77af-4c0a-a249-dbbabbbae05e",
   "metadata": {},
   "source": [
    "# 과제 3: Carly's Clippers"
   ]
  },
  {
   "cell_type": "code",
   "execution_count": 1,
   "id": "97e05c5c-8974-499f-8ba6-6c5454632893",
   "metadata": {},
   "outputs": [],
   "source": [
    "hairstyles = [\"bouffant\", \"pixie\", \"dreadlocks\", \"crew\", \"bowl\", \"bob\", \"mohawk\", \"flattop\"]\n",
    "prices = [30, 25, 40, 20, 20, 35, 50, 35]\n",
    "last_week = [2, 3, 5, 8, 4, 4, 6, 2]"
   ]
  },
  {
   "cell_type": "markdown",
   "id": "9ed80724-85f7-45c7-b753-b44e2661b439",
   "metadata": {},
   "source": [
    "### - Prices and Cuts :"
   ]
  },
  {
   "cell_type": "code",
   "execution_count": 4,
   "id": "46346b9c-5aa4-44f4-99ff-2667bfbb4c1f",
   "metadata": {},
   "outputs": [],
   "source": [
    "# 1\n",
    "total_price = 0"
   ]
  },
  {
   "cell_type": "code",
   "execution_count": 5,
   "id": "9916af32-bc29-490b-b801-a41ab1c94dbc",
   "metadata": {},
   "outputs": [
    {
     "data": {
      "text/plain": [
       "255"
      ]
     },
     "execution_count": 5,
     "metadata": {},
     "output_type": "execute_result"
    }
   ],
   "source": [
    "# 2\n",
    "for i in range(len(prices)):\n",
    "    total_price += prices[i]\n",
    "    \n",
    "total_price"
   ]
  },
  {
   "cell_type": "code",
   "execution_count": 6,
   "id": "a305582c-4db6-44b8-8dce-4404dc221102",
   "metadata": {},
   "outputs": [],
   "source": [
    "# 3\n",
    "average_price = total_price / len(prices)"
   ]
  },
  {
   "cell_type": "code",
   "execution_count": 7,
   "id": "061eecfd-ec18-4de0-9659-0bca7e3109ca",
   "metadata": {},
   "outputs": [
    {
     "name": "stdout",
     "output_type": "stream",
     "text": [
      "Average price is 31.875\n"
     ]
    }
   ],
   "source": [
    "# 4\n",
    "print(\"Average price is\", average_price)"
   ]
  },
  {
   "cell_type": "code",
   "execution_count": 16,
   "id": "bccc370c-173f-4c76-854c-cbb2e8c3b364",
   "metadata": {},
   "outputs": [],
   "source": [
    "# 5\n",
    "new_prices = [k - 5 for k in prices]"
   ]
  },
  {
   "cell_type": "code",
   "execution_count": 18,
   "id": "db596ca8-e03f-42fa-9ab6-0ecfc7bcf4a4",
   "metadata": {},
   "outputs": [
    {
     "data": {
      "text/plain": [
       "[25, 20, 35, 15, 15, 30, 45, 30]"
      ]
     },
     "execution_count": 18,
     "metadata": {},
     "output_type": "execute_result"
    }
   ],
   "source": [
    "# 6\n",
    "new_prices"
   ]
  },
  {
   "cell_type": "markdown",
   "id": "e9a9bbc9-30ba-402b-849d-5190e7d80348",
   "metadata": {},
   "source": [
    "### - Revenue :"
   ]
  },
  {
   "cell_type": "code",
   "execution_count": 27,
   "id": "be6f8d89-2ef4-42a3-b91f-cfefbbdc121a",
   "metadata": {},
   "outputs": [],
   "source": [
    "# 7\n",
    "total_revenue = 0"
   ]
  },
  {
   "cell_type": "code",
   "execution_count": 28,
   "id": "47991ee8-27e6-4832-ab77-2c7a5c57ac88",
   "metadata": {},
   "outputs": [],
   "source": [
    "# 8, 9\n",
    "for i in range(len(hairstyles)):\n",
    "    total_revenue += prices[i] * last_week[i]"
   ]
  },
  {
   "cell_type": "code",
   "execution_count": 29,
   "id": "d869a5d4-4d21-4c36-ac26-a842be32078c",
   "metadata": {},
   "outputs": [
    {
     "data": {
      "text/plain": [
       "1085"
      ]
     },
     "execution_count": 29,
     "metadata": {},
     "output_type": "execute_result"
    }
   ],
   "source": [
    "# 10\n",
    "total_revenue"
   ]
  },
  {
   "cell_type": "code",
   "execution_count": 32,
   "id": "41fded8a-3088-4377-aaf1-2554cf6ca991",
   "metadata": {},
   "outputs": [
    {
     "name": "stdout",
     "output_type": "stream",
     "text": [
      "Average daily revenue is 155.0\n"
     ]
    }
   ],
   "source": [
    "# 11\n",
    "average_daily_revenue = total_revenue / 7\n",
    "print(\"Average daily revenue is\", average_daily_revenue)"
   ]
  },
  {
   "cell_type": "code",
   "execution_count": 40,
   "id": "81c0e084-28fb-4120-8c02-c5427e4b4c2e",
   "metadata": {},
   "outputs": [],
   "source": [
    "# 12\n",
    "cuts_under_30 = [hairstyles[i] for i in range(len(new_prices) - 1) if new_prices[i] < 30]"
   ]
  },
  {
   "cell_type": "code",
   "execution_count": 41,
   "id": "c7ded307-6876-4908-84ec-7d5baddd59c9",
   "metadata": {},
   "outputs": [
    {
     "data": {
      "text/plain": [
       "['bouffant', 'pixie', 'crew', 'bowl']"
      ]
     },
     "execution_count": 41,
     "metadata": {},
     "output_type": "execute_result"
    }
   ],
   "source": [
    "# 13\n",
    "cuts_under_30"
   ]
  },
  {
   "cell_type": "markdown",
   "id": "b91299bf-b07c-4206-bf5c-24f7cb7bc5b2",
   "metadata": {},
   "source": [
    "## # Finish"
   ]
  }
 ],
 "metadata": {
  "kernelspec": {
   "display_name": "Python 3 (ipykernel)",
   "language": "python",
   "name": "python3"
  },
  "language_info": {
   "codemirror_mode": {
    "name": "ipython",
    "version": 3
   },
   "file_extension": ".py",
   "mimetype": "text/x-python",
   "name": "python",
   "nbconvert_exporter": "python",
   "pygments_lexer": "ipython3",
   "version": "3.9.7"
  }
 },
 "nbformat": 4,
 "nbformat_minor": 5
}
