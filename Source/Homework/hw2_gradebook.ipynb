{
 "cells": [
  {
   "cell_type": "markdown",
   "id": "2a0937c3-8959-4f96-8a1d-486d2486be30",
   "metadata": {},
   "source": [
    "# 과제 2: Gradebook\n",
    "### - Creat Some List :"
   ]
  },
  {
   "cell_type": "code",
   "execution_count": 48,
   "id": "28e8f9ca-2440-49cf-b174-635a5989d982",
   "metadata": {},
   "outputs": [],
   "source": [
    "# 1\n",
    "subjects = [\"physics\", \"calculus\", \"poetry\", \"history\"]"
   ]
  },
  {
   "cell_type": "code",
   "execution_count": 49,
   "id": "84c483b3-c499-4606-bc73-9f8cbe531de5",
   "metadata": {},
   "outputs": [],
   "source": [
    "# 2\n",
    "grades = [98, 97, 85, 88]"
   ]
  },
  {
   "cell_type": "code",
   "execution_count": 50,
   "id": "65c925ac-fb8d-411f-a6e7-80e5f4b9e55f",
   "metadata": {},
   "outputs": [],
   "source": [
    "# 3\n",
    "gradebook = [[subjects[0], grades[0]], [subjects[1], grades[1]], [subjects[2], grades[2]], [subjects[3], grades[3]]]"
   ]
  },
  {
   "cell_type": "code",
   "execution_count": 51,
   "id": "84490921-978b-42fb-8a72-3a5eee830c3b",
   "metadata": {},
   "outputs": [
    {
     "name": "stdout",
     "output_type": "stream",
     "text": [
      "[['physics', 98], ['calculus', 97], ['poetry', 85], ['history', 88]]\n"
     ]
    }
   ],
   "source": [
    "# 4\n",
    "print(gradebook)"
   ]
  },
  {
   "cell_type": "code",
   "execution_count": 52,
   "id": "20c8ae63-c384-4856-9235-0f92dd5cfbe4",
   "metadata": {},
   "outputs": [],
   "source": [
    "# 5\n",
    "gradebook.append([\"computer science\", 100])"
   ]
  },
  {
   "cell_type": "code",
   "execution_count": 53,
   "id": "fe351254-ec63-4753-af59-6f0e73daad6e",
   "metadata": {},
   "outputs": [
    {
     "name": "stdout",
     "output_type": "stream",
     "text": [
      "[['physics', 98], ['calculus', 97], ['poetry', 85], ['history', 88], ['computer science', 100], ['visual arts', 93]]\n"
     ]
    }
   ],
   "source": [
    "# 6\n",
    "gradebook.append([\"visual arts\", 93])\n",
    "print(gradebook)"
   ]
  },
  {
   "cell_type": "markdown",
   "id": "d2ec4ec5-3796-42dd-b171-b04833449232",
   "metadata": {},
   "source": [
    "### - Modify The Gradebook :"
   ]
  },
  {
   "cell_type": "code",
   "execution_count": 54,
   "id": "7699a1be-fbc7-4579-89ca-2c75c2fbcbcc",
   "metadata": {},
   "outputs": [],
   "source": [
    "# 7\n",
    "gradebook[5][1] += 5"
   ]
  },
  {
   "cell_type": "code",
   "execution_count": 55,
   "id": "5206b592-c9a0-4797-b3c5-9774525e39da",
   "metadata": {},
   "outputs": [],
   "source": [
    "# 8\n",
    "gradebook[2].remove(85)"
   ]
  },
  {
   "cell_type": "code",
   "execution_count": 56,
   "id": "7ad1a450-9c51-497e-b806-ee0c4c4a748c",
   "metadata": {},
   "outputs": [
    {
     "name": "stdout",
     "output_type": "stream",
     "text": [
      "[['physics', 98], ['calculus', 97], ['poetry', 'Pass'], ['history', 88], ['computer science', 100], ['visual arts', 98]]\n"
     ]
    }
   ],
   "source": [
    "# 9\n",
    "gradebook[2].append(\"Pass\")\n",
    "print(gradebook)"
   ]
  },
  {
   "cell_type": "markdown",
   "id": "0944d429-d38e-47ad-970f-e26fe0ace4e0",
   "metadata": {},
   "source": [
    "### - One Big Gradebook!"
   ]
  },
  {
   "cell_type": "code",
   "execution_count": 57,
   "id": "b433378e-8a92-4449-9e7c-b100f2480e3a",
   "metadata": {},
   "outputs": [
    {
     "name": "stdout",
     "output_type": "stream",
     "text": [
      "[['politics', 80], ['latin', 96], ['dance', 97], ['architecture', 65], ['physics', 98], ['calculus', 97], ['poetry', 'Pass'], ['history', 88], ['computer science', 100], ['visual arts', 98]]\n"
     ]
    }
   ],
   "source": [
    "# 10\n",
    "last_semester_gradebook = [[\"politics\", 80], [\"latin\", 96], [\"dance\", 97], [\"architecture\", 65]]\n",
    "\n",
    "full_gradebook = last_semester_gradebook + gradebook\n",
    "print(full_gradebook)"
   ]
  },
  {
   "cell_type": "markdown",
   "id": "008e3494-d1c2-400e-b37d-477bbecbbe7b",
   "metadata": {},
   "source": [
    "## # Finish"
   ]
  }
 ],
 "metadata": {
  "kernelspec": {
   "display_name": "Python 3 (ipykernel)",
   "language": "python",
   "name": "python3"
  },
  "language_info": {
   "codemirror_mode": {
    "name": "ipython",
    "version": 3
   },
   "file_extension": ".py",
   "mimetype": "text/x-python",
   "name": "python",
   "nbconvert_exporter": "python",
   "pygments_lexer": "ipython3",
   "version": "3.9.7"
  }
 },
 "nbformat": 4,
 "nbformat_minor": 5
}
