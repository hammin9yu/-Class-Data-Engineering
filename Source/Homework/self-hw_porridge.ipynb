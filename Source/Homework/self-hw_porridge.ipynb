{
 "cells": [
  {
   "cell_type": "code",
   "execution_count": 1,
   "id": "f0d34e98-ccb7-4fe7-aa2c-b649d96de636",
   "metadata": {},
   "outputs": [],
   "source": [
    "import numpy as np"
   ]
  },
  {
   "cell_type": "code",
   "execution_count": 4,
   "id": "55f0646a-a17c-42ca-8a56-21878dd7bfa4",
   "metadata": {},
   "outputs": [
    {
     "name": "stdout",
     "output_type": "stream",
     "text": [
      "[79 65 50 63 56 90 85 98 79 51]\n"
     ]
    }
   ],
   "source": [
    "porridge = np.array([79,65,50,63,56,90,85,98,79,51])\n",
    "print(porridge)"
   ]
  },
  {
   "cell_type": "code",
   "execution_count": 6,
   "id": "07b9b2e0-5d07-46c0-a4ec-3290e89cf676",
   "metadata": {},
   "outputs": [
    {
     "name": "stdout",
     "output_type": "stream",
     "text": [
      "[50 56 51]\n"
     ]
    }
   ],
   "source": [
    "cold = porridge[porridge < 60]\n",
    "print(cold)"
   ]
  },
  {
   "cell_type": "code",
   "execution_count": 7,
   "id": "bdec87ef-f4f0-4bfd-a012-e912a9e5de18",
   "metadata": {},
   "outputs": [
    {
     "name": "stdout",
     "output_type": "stream",
     "text": [
      "[90 85 98]\n"
     ]
    }
   ],
   "source": [
    "hot = porridge[porridge > 80]\n",
    "print(hot)"
   ]
  },
  {
   "cell_type": "code",
   "execution_count": 11,
   "id": "90293d30-bbf1-4244-8e17-6d3276163138",
   "metadata": {},
   "outputs": [
    {
     "name": "stdout",
     "output_type": "stream",
     "text": [
      "[79 65 63 79]\n"
     ]
    }
   ],
   "source": [
    "just_right = porridge[(porridge >= 60) & (porridge <= 80)]\n",
    "print(just_right)"
   ]
  },
  {
   "cell_type": "code",
   "execution_count": null,
   "id": "407750f6-fd2d-46f5-9796-6a1cd62ff7a0",
   "metadata": {},
   "outputs": [],
   "source": []
  }
 ],
 "metadata": {
  "kernelspec": {
   "display_name": "Python 3 (ipykernel)",
   "language": "python",
   "name": "python3"
  },
  "language_info": {
   "codemirror_mode": {
    "name": "ipython",
    "version": 3
   },
   "file_extension": ".py",
   "mimetype": "text/x-python",
   "name": "python",
   "nbconvert_exporter": "python",
   "pygments_lexer": "ipython3",
   "version": "3.9.7"
  }
 },
 "nbformat": 4,
 "nbformat_minor": 5
}
