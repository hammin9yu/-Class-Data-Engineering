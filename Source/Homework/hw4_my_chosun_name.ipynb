{
 "cells": [
  {
   "cell_type": "markdown",
   "id": "4c1d594f-4e4b-4075-aacc-b77649525a42",
   "metadata": {},
   "source": [
    "# 과제 4: 나의 조선시대 이름 찾기"
   ]
  },
  {
   "cell_type": "code",
   "execution_count": 7,
   "id": "1adf133f-9c40-4fc6-9cab-2424aa759717",
   "metadata": {},
   "outputs": [
    {
     "data": {
      "text/plain": [
       "['쌍', '쇠', '복', '돌', '팽', '육', '쌍', '개', '칠', '갑', '삼', '방']"
      ]
     },
     "execution_count": 7,
     "metadata": {},
     "output_type": "execute_result"
    }
   ],
   "source": [
    "# 1\n",
    "first = ['쌍', '쇠', '복', '돌', '팽', '육', '쌍', '개', '칠', '갑', '삼', '방']\n",
    "first"
   ]
  },
  {
   "cell_type": "code",
   "execution_count": 8,
   "id": "703d2421-74b2-4795-b07c-401f8023cfe9",
   "metadata": {
    "scrolled": true,
    "tags": []
   },
   "outputs": [
    {
     "data": {
      "text/plain": [
       "['봉',\n",
       " '구',\n",
       " '욕',\n",
       " '포',\n",
       " '똥',\n",
       " '삼',\n",
       " '식',\n",
       " '석',\n",
       " '놈',\n",
       " '님',\n",
       " '년',\n",
       " '돌',\n",
       " '단',\n",
       " '득',\n",
       " '방',\n",
       " '질',\n",
       " '장',\n",
       " '걸',\n",
       " '래',\n",
       " '룡',\n",
       " '동',\n",
       " '순',\n",
       " '자',\n",
       " '박',\n",
       " '창',\n",
       " '언',\n",
       " '것',\n",
       " '포',\n",
       " '만',\n",
       " '단',\n",
       " '국']"
      ]
     },
     "execution_count": 8,
     "metadata": {},
     "output_type": "execute_result"
    }
   ],
   "source": [
    "# 2\n",
    "second = ['봉', '구', '욕', '포', '똥', '삼', '식', '석', '놈', '님', '년', '돌', '단', '득', '방', '질', '장', '걸', '래', '룡', '동', '순', '자', '박', '창', '언', '것', '포', '만', '단', '국']\n",
    "second"
   ]
  },
  {
   "cell_type": "code",
   "execution_count": 11,
   "id": "019ed2d1-79c0-47b3-b3b7-2ea8cbfe88d8",
   "metadata": {},
   "outputs": [],
   "source": [
    "# 3\n",
    "def get_my_chosun_name(family_name, month, day):\n",
    "    chosun_name = family_name + first[month - 1] + second[day - 1]\n",
    "    print(\"당신의 조선시대 이름은\", chosun_name, \"입니다.\")"
   ]
  },
  {
   "cell_type": "code",
   "execution_count": 12,
   "id": "170cbb0c-0954-44fd-8cdf-467f3a0eef79",
   "metadata": {},
   "outputs": [
    {
     "name": "stdout",
     "output_type": "stream",
     "text": [
      "당신의 조선시대 이름은 함개포 입니다.\n"
     ]
    }
   ],
   "source": [
    "# 4\n",
    "get_my_chosun_name('함', 8, 28)"
   ]
  },
  {
   "cell_type": "markdown",
   "id": "14ab8a7e-6f32-48a8-b300-e5fa358dc67a",
   "metadata": {},
   "source": [
    "## # Finish"
   ]
  }
 ],
 "metadata": {
  "kernelspec": {
   "display_name": "Python 3 (ipykernel)",
   "language": "python",
   "name": "python3"
  },
  "language_info": {
   "codemirror_mode": {
    "name": "ipython",
    "version": 3
   },
   "file_extension": ".py",
   "mimetype": "text/x-python",
   "name": "python",
   "nbconvert_exporter": "python",
   "pygments_lexer": "ipython3",
   "version": "3.9.7"
  }
 },
 "nbformat": 4,
 "nbformat_minor": 5
}
