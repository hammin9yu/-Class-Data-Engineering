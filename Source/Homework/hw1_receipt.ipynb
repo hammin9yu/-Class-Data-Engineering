{
 "cells": [
  {
   "cell_type": "markdown",
   "id": "4db5502e-c963-4635-b150-d26259cc019d",
   "metadata": {},
   "source": [
    "# 과제 1: Receipts for Lovely Loveseats\n",
    "## # Task\n",
    "### - Adding In The Catalog"
   ]
  },
  {
   "cell_type": "code",
   "execution_count": 1,
   "id": "8f6bd4a3-66c5-4a7b-ad0a-b50e29caf1e9",
   "metadata": {},
   "outputs": [
    {
     "name": "stdout",
     "output_type": "stream",
     "text": [
      "Lovely Loveseat. Tufted polyester blend on wood. 32 inches high x 40 inches wide x 30 inches deep. Red or white.\n"
     ]
    }
   ],
   "source": [
    "# 1\n",
    "lovely_loveseat_description = \"Lovely Loveseat. Tufted polyester blend on wood. 32 inches high x 40 inches wide x 30 inches deep. Red or white.\"\n",
    "print(lovely_loveseat_description)"
   ]
  },
  {
   "cell_type": "code",
   "execution_count": 2,
   "id": "84f3d498-55ee-4407-a259-da762710441d",
   "metadata": {},
   "outputs": [
    {
     "name": "stdout",
     "output_type": "stream",
     "text": [
      "254.0\n"
     ]
    }
   ],
   "source": [
    "# 2\n",
    "lovely_loveseat_price = 254.00\n",
    "print(lovely_loveseat_price)"
   ]
  },
  {
   "cell_type": "code",
   "execution_count": 3,
   "id": "4b5987e0-bf6f-499d-b4dc-921be369cf45",
   "metadata": {},
   "outputs": [
    {
     "name": "stdout",
     "output_type": "stream",
     "text": [
      "Stylish Settee. Faux leather on birch. 29.50 inches high x 54.75 inches wide x 28 inches deep. Black.\n"
     ]
    }
   ],
   "source": [
    "# 3\n",
    "stylish_settee_description = \"Stylish Settee. Faux leather on birch. 29.50 inches high x 54.75 inches wide x 28 inches deep. Black.\"\n",
    "print(stylish_settee_description)"
   ]
  },
  {
   "cell_type": "code",
   "execution_count": 4,
   "id": "a43cb739-9fe2-4d8f-ba09-dca749065d6a",
   "metadata": {},
   "outputs": [
    {
     "name": "stdout",
     "output_type": "stream",
     "text": [
      "180.5\n"
     ]
    }
   ],
   "source": [
    "# 4\n",
    "stylish_settee_price = 180.50\n",
    "print(stylish_settee_price)"
   ]
  },
  {
   "cell_type": "code",
   "execution_count": 5,
   "id": "b026d25b-6538-4f78-9205-b2365e8eaa75",
   "metadata": {},
   "outputs": [
    {
     "name": "stdout",
     "output_type": "stream",
     "text": [
      "Luxurious Lamp. Glass and iron. 36 inches tall. Brown with cream shade.\n"
     ]
    }
   ],
   "source": [
    "# 5\n",
    "luxurious_lamp_description = \"Luxurious Lamp. Glass and iron. 36 inches tall. Brown with cream shade.\"\n",
    "print(luxurious_lamp_description)"
   ]
  },
  {
   "cell_type": "code",
   "execution_count": 6,
   "id": "33c4447f-708b-429c-a240-34998047ab02",
   "metadata": {},
   "outputs": [
    {
     "name": "stdout",
     "output_type": "stream",
     "text": [
      "52.15\n"
     ]
    }
   ],
   "source": [
    "# 6\n",
    "luxurious_lamp_price = 52.15\n",
    "print(luxurious_lamp_price)"
   ]
  },
  {
   "cell_type": "code",
   "execution_count": 7,
   "id": "0290faab-9eda-4c2e-aa34-2f8e2a858aa2",
   "metadata": {},
   "outputs": [
    {
     "name": "stdout",
     "output_type": "stream",
     "text": [
      "0.088\n"
     ]
    }
   ],
   "source": [
    "# 7\n",
    "sales_tax = .088\n",
    "print(sales_tax)"
   ]
  },
  {
   "cell_type": "markdown",
   "id": "495593a4-dd28-4e53-a710-d856bf31fc0a",
   "metadata": {},
   "source": [
    "### - Our First Customer"
   ]
  },
  {
   "cell_type": "code",
   "execution_count": 21,
   "id": "609202c6-b695-4796-a5a1-8524c479a95a",
   "metadata": {},
   "outputs": [],
   "source": [
    "# 8\n",
    "customer_one_total = 0"
   ]
  },
  {
   "cell_type": "code",
   "execution_count": 22,
   "id": "0cee806c-db58-4c9d-bd41-40ff0e95c500",
   "metadata": {},
   "outputs": [],
   "source": [
    "# 9\n",
    "customer_one_itemization = \"\""
   ]
  },
  {
   "cell_type": "code",
   "execution_count": 23,
   "id": "1ffff6fe-2636-4e77-84ca-2037e9c2df99",
   "metadata": {},
   "outputs": [],
   "source": [
    "# 10\n",
    "customer_one_total = lovely_loveseat_price"
   ]
  },
  {
   "cell_type": "code",
   "execution_count": 24,
   "id": "683a52b4-95af-49f8-a993-1032dd42ec88",
   "metadata": {},
   "outputs": [],
   "source": [
    "# 11\n",
    "customer_one_itemization = lovely_loveseat_description"
   ]
  },
  {
   "cell_type": "code",
   "execution_count": 25,
   "id": "40d21ce4-538c-410a-a29f-f170e0fdec0d",
   "metadata": {},
   "outputs": [],
   "source": [
    "# 12\n",
    "customer_one_total += luxurious_lamp_price"
   ]
  },
  {
   "cell_type": "code",
   "execution_count": 26,
   "id": "019b6996-1c41-4371-9da7-3b3588a939cf",
   "metadata": {},
   "outputs": [],
   "source": [
    "# 13\n",
    "customer_one_itemization += luxurious_lamp_description"
   ]
  },
  {
   "cell_type": "code",
   "execution_count": 27,
   "id": "d8396fd1-a013-4b74-a746-174070c048d9",
   "metadata": {},
   "outputs": [],
   "source": [
    "# 14\n",
    "customer_one_tax = customer_one_total * sales_tax"
   ]
  },
  {
   "cell_type": "code",
   "execution_count": 28,
   "id": "aa03f69a-08ac-4adc-8f5e-a264028a8ae9",
   "metadata": {},
   "outputs": [],
   "source": [
    "# 15\n",
    "customer_one_total += customer_one_tax"
   ]
  },
  {
   "cell_type": "code",
   "execution_count": 29,
   "id": "dea5e36a-53e0-498f-823c-c8be50c299c9",
   "metadata": {},
   "outputs": [
    {
     "name": "stdout",
     "output_type": "stream",
     "text": [
      "Customer One Items: \n"
     ]
    }
   ],
   "source": [
    "# 16\n",
    "print(\"Customer One Items: \")"
   ]
  },
  {
   "cell_type": "code",
   "execution_count": 30,
   "id": "8f79c70a-2d95-42e6-bbc0-bcc5dad126bf",
   "metadata": {},
   "outputs": [
    {
     "name": "stdout",
     "output_type": "stream",
     "text": [
      "Lovely Loveseat. Tufted polyester blend on wood. 32 inches high x 40 inches wide x 30 inches deep. Red or white.Luxurious Lamp. Glass and iron. 36 inches tall. Brown with cream shade.\n"
     ]
    }
   ],
   "source": [
    "# 17\n",
    "print(customer_one_itemization)"
   ]
  },
  {
   "cell_type": "code",
   "execution_count": 31,
   "id": "45a12e7d-8fed-4324-b62d-c7370d81dd73",
   "metadata": {},
   "outputs": [
    {
     "name": "stdout",
     "output_type": "stream",
     "text": [
      "Customer One Total: \n"
     ]
    }
   ],
   "source": [
    "# 18\n",
    "print(\"Customer One Total: \")"
   ]
  },
  {
   "cell_type": "code",
   "execution_count": 32,
   "id": "bb4204db-db95-44d6-b22c-5d77efcf5ddc",
   "metadata": {},
   "outputs": [
    {
     "name": "stdout",
     "output_type": "stream",
     "text": [
      "333.09119999999996\n"
     ]
    }
   ],
   "source": [
    "# 19\n",
    "print(customer_one_total)"
   ]
  },
  {
   "cell_type": "code",
   "execution_count": 35,
   "id": "07082171-c9e5-40a5-b595-e0a58211c021",
   "metadata": {},
   "outputs": [
    {
     "name": "stdout",
     "output_type": "stream",
     "text": [
      "Customer One Items: \n",
      "Lovely Loveseat. Tufted polyester blend on wood. 32 inches high x 40 inches wide x 30 inches deep. Red or white.Luxurious Lamp. Glass and iron. 36 inches tall. Brown with cream shade.\n",
      "Customer One Total: \n",
      "333.09119999999996\n"
     ]
    }
   ],
   "source": [
    "# 20\n",
    "print(\"Customer One Items: \")\n",
    "print(customer_one_itemization)\n",
    "print(\"Customer One Total: \")\n",
    "print(customer_one_total)"
   ]
  },
  {
   "cell_type": "markdown",
   "id": "e6aed549-2fab-4646-9227-7e46407bc9b7",
   "metadata": {},
   "source": [
    "## # Finish"
   ]
  }
 ],
 "metadata": {
  "kernelspec": {
   "display_name": "Python 3 (ipykernel)",
   "language": "python",
   "name": "python3"
  },
  "language_info": {
   "codemirror_mode": {
    "name": "ipython",
    "version": 3
   },
   "file_extension": ".py",
   "mimetype": "text/x-python",
   "name": "python",
   "nbconvert_exporter": "python",
   "pygments_lexer": "ipython3",
   "version": "3.9.7"
  }
 },
 "nbformat": 4,
 "nbformat_minor": 5
}
