{
 "cells": [
  {
   "cell_type": "code",
   "execution_count": 1,
   "metadata": {},
   "outputs": [],
   "source": [
    "import numpy as np"
   ]
  },
  {
   "cell_type": "code",
   "execution_count": 2,
   "metadata": {},
   "outputs": [
    {
     "name": "stderr",
     "output_type": "stream",
     "text": [
      "C:\\Users\\ADMINI~1\\AppData\\Local\\Temp/ipykernel_7200/2325761507.py:5: RuntimeWarning: divide by zero encountered in true_divide\n",
      "  output[i] = 1.0 / values[i]\n"
     ]
    },
    {
     "data": {
      "text/plain": [
       "array([       inf, 1.        , 0.5       , 0.33333333, 0.25      ,\n",
       "       0.2       , 0.16666667, 0.14285714, 0.125     , 0.11111111])"
      ]
     },
     "execution_count": 2,
     "metadata": {},
     "output_type": "execute_result"
    }
   ],
   "source": [
    "# 역수 계산 함수 정의\n",
    "def compute_reciprocals(values):\n",
    "    output = np.empty(len(values))\n",
    "    for i in range(len(values)):\n",
    "        output[i] = 1.0 / values[i]\n",
    "    return output\n",
    "\n",
    "# 함수 테스트\n",
    "x = np.arange(10)\n",
    "compute_reciprocals(x)"
   ]
  },
  {
   "cell_type": "code",
   "execution_count": 3,
   "metadata": {},
   "outputs": [
    {
     "name": "stderr",
     "output_type": "stream",
     "text": [
      "C:\\Users\\ADMINI~1\\AppData\\Local\\Temp/ipykernel_7200/2325761507.py:5: RuntimeWarning: divide by zero encountered in true_divide\n",
      "  output[i] = 1.0 / values[i]\n"
     ]
    },
    {
     "name": "stdout",
     "output_type": "stream",
     "text": [
      "2.4 s ± 88.4 ms per loop (mean ± std. dev. of 7 runs, 1 loop each)\n"
     ]
    }
   ],
   "source": [
    "\"\"\"\n",
    "    역수 계산: Python loop vs NumPy ufuncs\n",
    "\"\"\"\n",
    "\n",
    "# 백만 개 크기의 난수 배열 생성\n",
    "big_array = np.random.randint(1000, size=1000000)\n",
    "\n",
    "# Python loop를 통한 역수 계산\n",
    "%timeit compute_reciprocals(big_array)"
   ]
  },
  {
   "cell_type": "code",
   "execution_count": 4,
   "metadata": {},
   "outputs": [
    {
     "name": "stderr",
     "output_type": "stream",
     "text": [
      "<magic-timeit>:1: RuntimeWarning: divide by zero encountered in true_divide\n"
     ]
    },
    {
     "name": "stdout",
     "output_type": "stream",
     "text": [
      "4.09 ms ± 517 µs per loop (mean ± std. dev. of 7 runs, 100 loops each)\n"
     ]
    }
   ],
   "source": [
    "# NumPy ufunc을 통한 벡터화된 역수 계산\n",
    "%timeit 1/big_array"
   ]
  },
  {
   "cell_type": "code",
   "execution_count": 6,
   "metadata": {},
   "outputs": [
    {
     "name": "stdout",
     "output_type": "stream",
     "text": [
      "[[5 8 9 5]\n",
      " [0 0 1 7]\n",
      " [6 9 2 4]] \n",
      " [[5 2 4 2]\n",
      " [4 7 7 9]\n",
      " [1 7 0 6]]\n",
      "\n",
      " [[ 8 11 12  8]\n",
      " [ 3  3  4 10]\n",
      " [ 9 12  5  7]]\n",
      "\n",
      " [[13 13 16 10]\n",
      " [ 7 10 11 19]\n",
      " [10 19  5 13]]\n",
      "\n",
      " [[9 9 7 6 9]\n",
      " [1 0 1 8 8]\n",
      " [3 9 8 7 3]]\n",
      "\n",
      " [[81 81 49 36 81]\n",
      " [ 1  0  1 64 64]\n",
      " [ 9 81 64 49  9]]\n"
     ]
    }
   ],
   "source": [
    "\"\"\"\n",
    "    UFuncs: 유연한 연산 제공\n",
    "\"\"\"\n",
    "\n",
    "# 난수 배열 2개 생성\n",
    "np.random.seed(1)\n",
    "arr1 = np.random.randint(10, size=(3,4))\n",
    "arr2 = np.random.randint(10, size=(3,4))\n",
    "print(arr1, '\\n', arr2)\n",
    "\n",
    "# 배열-스칼라 연산\n",
    "arr1 = arr1 + 3\n",
    "print('\\n', arr1)\n",
    "\n",
    "# 배열-배열 연산\n",
    "arr3 = arr1 + arr2\n",
    "print('\\n', arr3)\n",
    "\n",
    "arr4 = np.random.randint(10, size=(3, 5))\n",
    "print('\\n', arr4)\n",
    "\n",
    "# 다차원 배열 연산: 1차원 배열 ** 2차원 배열\n",
    "arr5 = arr4 ** 2   # 지수연산 같음..\n",
    "print('\\n', arr5)"
   ]
  },
  {
   "cell_type": "code",
   "execution_count": 9,
   "metadata": {},
   "outputs": [
    {
     "name": "stdout",
     "output_type": "stream",
     "text": [
      "x     = [0 1 2 3]\n",
      "x + 5 = [5 6 7 8]\n",
      "x - 5 = [-5 -4 -3 -2]\n",
      "x * 2 = [0 2 4 6]\n",
      "x / 2 = [0.  0.5 1.  1.5]\n",
      "x ** 2 = [0 1 4 9]\n",
      "\n",
      "x + 5 = [5 6 7 8]\n",
      "x - 5 = [-5 -4 -3 -2]\n",
      "x * 2 = [0 2 4 6]\n",
      "x / 2 = [0.  0.5 1.  1.5]\n",
      "x ** 2 = [0 1 4 9]\n"
     ]
    }
   ],
   "source": [
    "\"\"\"\n",
    "    UFuncs: 산술 연산\n",
    "\"\"\"\n",
    "\n",
    "# Basic arithmetic operations on an array\n",
    "x = np.arange(4)\n",
    "print(\"x     =\", x)\n",
    "print(\"x + 5 =\", x + 5)\n",
    "print(\"x - 5 =\", x - 5)\n",
    "print(\"x * 2 =\", x * 2)\n",
    "print(\"x / 2 =\", x / 2)\n",
    "print(\"x ** 2 =\", x ** 2)\n",
    "print()\n",
    "\n",
    "# 산술 연산에 대응하는 유니버설 함수\n",
    "print(\"x + 5 =\", np.add(x, 5))\n",
    "print(\"x - 5 =\", np.subtract(x, 5))\n",
    "print(\"x * 2 =\", np.multiply(x, 2))\n",
    "print(\"x / 2 =\", np.divide(x, 2))\n",
    "print(\"x ** 2 =\", np.power(x, 2))"
   ]
  },
  {
   "cell_type": "code",
   "execution_count": 10,
   "metadata": {},
   "outputs": [
    {
     "name": "stdout",
     "output_type": "stream",
     "text": [
      "[2 1 0 1 2]\n",
      "[5. 5. 2. 1.]\n"
     ]
    }
   ],
   "source": [
    "\"\"\"\n",
    "    UFuncs: 절댓값 계산\n",
    "\"\"\"\n",
    "\n",
    "# 절댓값 함수\n",
    "x = np.array([-2,-1,0,1,2])\n",
    "print(np.abs(x))\n",
    "\n",
    "# 복소수에 대한 절댓값 계산\n",
    "x = np.array([3-4j, 4-3j, 2+0j, 0+1j])\n",
    "print(np.abs(x))"
   ]
  },
  {
   "cell_type": "code",
   "execution_count": 13,
   "metadata": {},
   "outputs": [
    {
     "name": "stdout",
     "output_type": "stream",
     "text": [
      "[  0.  10.  20.  30.  40.  50.  60.  70.  80.  90. 100.]\n"
     ]
    }
   ],
   "source": [
    "# np.linspace(): 선형 간격 벡터 생성\n",
    "print(np.linspace(0,100,11))"
   ]
  },
  {
   "cell_type": "code",
   "execution_count": 14,
   "metadata": {},
   "outputs": [
    {
     "name": "stdout",
     "output_type": "stream",
     "text": [
      "[0.         1.57079633 3.14159265]\n",
      "[0.0000000e+00 1.0000000e+00 1.2246468e-16]\n",
      "[ 1.000000e+00  6.123234e-17 -1.000000e+00]\n",
      "[ 0.00000000e+00  1.63312394e+16 -1.22464680e-16]\n"
     ]
    }
   ],
   "source": [
    "# 삼각함수(trigonometric functions)\n",
    "theta = np.linspace(0, np.pi, 3)\n",
    "\n",
    "print(theta)\n",
    "print(np.sin(theta))\n",
    "print(np.cos(theta))\n",
    "print(np.tan(theta))"
   ]
  },
  {
   "cell_type": "code",
   "execution_count": 2,
   "metadata": {},
   "outputs": [
    {
     "name": "stdout",
     "output_type": "stream",
     "text": [
      "[1 2 3 4]\n",
      "10\n",
      "24\n"
     ]
    }
   ],
   "source": [
    "# 집계 함수: reduce()\n",
    "x = np.arange(1, 5)\n",
    "print(x)\n",
    "\n",
    "aggr = np.add.reduce(x)\n",
    "print(aggr)\n",
    "\n",
    "aggr = np.multiply.reduce(x)\n",
    "print(aggr)"
   ]
  },
  {
   "cell_type": "code",
   "execution_count": 3,
   "metadata": {},
   "outputs": [
    {
     "name": "stdout",
     "output_type": "stream",
     "text": [
      "[ 1  3  6 10]\n",
      "[ 1  2  6 24]\n"
     ]
    }
   ],
   "source": [
    "# 집계 함수: accumulate()\n",
    "accum = np.add.accumulate(x)\n",
    "print(accum)\n",
    "\n",
    "accum = np.multiply.accumulate(x)\n",
    "print(accum)"
   ]
  },
  {
   "cell_type": "code",
   "execution_count": 4,
   "metadata": {},
   "outputs": [],
   "source": [
    "# 집계 함수: sum()\n",
    "np.random.seed(3)\n",
    "arr = np.random.rand(1000000) # rand(): 0~1 사이의 실수 형태의 난수 배열 생성"
   ]
  },
  {
   "cell_type": "code",
   "execution_count": 5,
   "metadata": {},
   "outputs": [
    {
     "name": "stdout",
     "output_type": "stream",
     "text": [
      "80 ms ± 859 µs per loop (mean ± std. dev. of 7 runs, 10 loops each)\n"
     ]
    }
   ],
   "source": [
    "# sum(): Python built-in function\n",
    "%timeit sum(arr)"
   ]
  },
  {
   "cell_type": "code",
   "execution_count": 6,
   "metadata": {},
   "outputs": [
    {
     "name": "stdout",
     "output_type": "stream",
     "text": [
      "941 µs ± 13.5 µs per loop (mean ± std. dev. of 7 runs, 1000 loops each)\n"
     ]
    }
   ],
   "source": [
    "# np.sum()\n",
    "%timeit np.sum(arr)"
   ]
  },
  {
   "cell_type": "code",
   "execution_count": 12,
   "metadata": {},
   "outputs": [
    {
     "name": "stdout",
     "output_type": "stream",
     "text": [
      "max = 99\n",
      "min = 0\n",
      "mean = 48.777\n",
      "median = 49.0\n",
      "percentile = 0.0\n",
      "variance = 817.091271\n",
      "standard deviation = 28.584808395369734\n",
      "index of maximum value = 65\n",
      "index of minimum value = 86\n",
      "\n",
      "False\n",
      "True\n",
      "\n",
      "False\n",
      "True\n"
     ]
    }
   ],
   "source": [
    "# 그 외의 집계함수\n",
    "x = np.random.randint(0, 100, size=1000)\n",
    "\n",
    "print(\"max =\", np.max(x))\n",
    "print(\"min =\", np.min(x))\n",
    "print(\"mean =\", np.mean(x))\n",
    "print(\"median =\", np.median(x))\n",
    "print(\"percentile =\", np.percentile(x, 0.25))\n",
    "print(\"variance =\", np.var(x))\n",
    "print(\"standard deviation =\", np.std(x))\n",
    "print(\"index of maximum value =\", np.argmax(x))\n",
    "print(\"index of minimum value =\", np.argmin(x))\n",
    "print()\n",
    "\n",
    "# np.any()\n",
    "print(np.any(x < 0))\n",
    "print(np.any(x < 2))\n",
    "print()\n",
    "\n",
    "# np.all()\n",
    "print(np.all(x > 0))   # 0이 있을 수 있어서 False\n",
    "print(np.all(x >= 0))"
   ]
  },
  {
   "cell_type": "code",
   "execution_count": 19,
   "metadata": {},
   "outputs": [
    {
     "name": "stdout",
     "output_type": "stream",
     "text": [
      "[[5 0 3 3]\n",
      " [7 9 3 5]\n",
      " [2 4 7 6]] \n",
      "\n",
      "54\n",
      "[14 13 13 14]\n",
      "[11 24 19]\n"
     ]
    }
   ],
   "source": [
    "# Multi dimensional aggregates\n",
    "np.random.seed(0)\n",
    "arr = np.random.randint(10, size=(3, 4))\n",
    "print(arr, '\\n')\n",
    "\n",
    "print(np.sum(arr))\n",
    "print(np.sum(arr, axis = 0))   # 행 방향\n",
    "print(np.sum(arr, axis = 1))   # 열 방향"
   ]
  }
 ],
 "metadata": {
  "kernelspec": {
   "display_name": "Python 3 (ipykernel)",
   "language": "python",
   "name": "python3"
  },
  "language_info": {
   "codemirror_mode": {
    "name": "ipython",
    "version": 3
   },
   "file_extension": ".py",
   "mimetype": "text/x-python",
   "name": "python",
   "nbconvert_exporter": "python",
   "pygments_lexer": "ipython3",
   "version": "3.9.7"
  }
 },
 "nbformat": 4,
 "nbformat_minor": 4
}
