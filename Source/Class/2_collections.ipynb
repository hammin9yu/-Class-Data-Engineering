{
 "cells": [
  {
   "cell_type": "markdown",
   "id": "5bad2ed0-c1fb-4ead-aeea-40c391addce3",
   "metadata": {},
   "source": [
    "## 파이썬 컬렉션\n",
    "1. 컬렉션 타입 소개\n",
    "2. 리스트"
   ]
  },
  {
   "cell_type": "markdown",
   "id": "18157954-cc12-4d6a-88a6-b886947c6d6a",
   "metadata": {},
   "source": [
    "### 1. 컬렉션 타입 소개\n",
    "+ Immutable Sequence 유형: Tuples, String\n",
    "+ Mutable Sequence 유형: Lists, Sets"
   ]
  },
  {
   "cell_type": "code",
   "execution_count": 3,
   "id": "446711b8-5f5a-4d5d-9e30-86bafd61292d",
   "metadata": {},
   "outputs": [
    {
     "name": "stdout",
     "output_type": "stream",
     "text": [
      "(3, 4, 5, 'x')\n"
     ]
    },
    {
     "data": {
      "text/plain": [
       "3"
      ]
     },
     "execution_count": 3,
     "metadata": {},
     "output_type": "execute_result"
    }
   ],
   "source": [
    "# Tuple은 (value 1, value 2, ..., value n)와 같은 형식으로 선언\n",
    "coordinate = (3, 4, 5, \"x\")   # 한 변수에 여러 데이터 타입 저장 가능\n",
    "print(coordinate)\n",
    "\n",
    "coordinate[0]   # 인덱싱"
   ]
  },
  {
   "cell_type": "code",
   "execution_count": 6,
   "id": "df319558-8755-4e84-9788-5c5d740d55cb",
   "metadata": {},
   "outputs": [
    {
     "ename": "TypeError",
     "evalue": "'tuple' object does not support item assignment",
     "output_type": "error",
     "traceback": [
      "\u001b[1;31m---------------------------------------------------------------------------\u001b[0m",
      "\u001b[1;31mTypeError\u001b[0m                                 Traceback (most recent call last)",
      "\u001b[1;32mC:\\Users\\ADMINI~1\\AppData\\Local\\Temp/ipykernel_15828/4080381430.py\u001b[0m in \u001b[0;36m<module>\u001b[1;34m\u001b[0m\n\u001b[0;32m      1\u001b[0m \u001b[1;31m# Tuple은 값 변경이 불가능하다(immutable).\u001b[0m\u001b[1;33m\u001b[0m\u001b[1;33m\u001b[0m\u001b[0m\n\u001b[0;32m      2\u001b[0m \u001b[1;33m\u001b[0m\u001b[0m\n\u001b[1;32m----> 3\u001b[1;33m \u001b[0mcoordinate\u001b[0m\u001b[1;33m[\u001b[0m\u001b[1;36m0\u001b[0m\u001b[1;33m]\u001b[0m \u001b[1;33m=\u001b[0m \u001b[1;36m4\u001b[0m\u001b[1;33m\u001b[0m\u001b[1;33m\u001b[0m\u001b[0m\n\u001b[0m",
      "\u001b[1;31mTypeError\u001b[0m: 'tuple' object does not support item assignment"
     ]
    }
   ],
   "source": [
    "# Tuple은 값 변경이 불가능하다(immutable).\n",
    "coordinate[0] = 4"
   ]
  },
  {
   "cell_type": "code",
   "execution_count": 7,
   "id": "bc4325fd-5161-4e46-8adb-d0dbfcd2f320",
   "metadata": {},
   "outputs": [],
   "source": [
    "# String 선언 방식: \"문자열 내용\" 또는 '문자열 내용'\n",
    "name = \"Ham\""
   ]
  },
  {
   "cell_type": "code",
   "execution_count": 9,
   "id": "d4fc6ee4-48ed-4460-911e-0d734fec0b19",
   "metadata": {},
   "outputs": [
    {
     "ename": "TypeError",
     "evalue": "'str' object does not support item assignment",
     "output_type": "error",
     "traceback": [
      "\u001b[1;31m---------------------------------------------------------------------------\u001b[0m",
      "\u001b[1;31mTypeError\u001b[0m                                 Traceback (most recent call last)",
      "\u001b[1;32mC:\\Users\\ADMINI~1\\AppData\\Local\\Temp/ipykernel_15828/3173077370.py\u001b[0m in \u001b[0;36m<module>\u001b[1;34m\u001b[0m\n\u001b[0;32m      1\u001b[0m \u001b[1;31m# String도 역시 immutable\u001b[0m\u001b[1;33m\u001b[0m\u001b[1;33m\u001b[0m\u001b[0m\n\u001b[0;32m      2\u001b[0m \u001b[1;33m\u001b[0m\u001b[0m\n\u001b[1;32m----> 3\u001b[1;33m \u001b[0mname\u001b[0m\u001b[1;33m[\u001b[0m\u001b[1;36m1\u001b[0m\u001b[1;33m:\u001b[0m\u001b[1;33m]\u001b[0m \u001b[1;33m=\u001b[0m \u001b[1;34m\"ey\"\u001b[0m\u001b[1;33m\u001b[0m\u001b[1;33m\u001b[0m\u001b[0m\n\u001b[0m",
      "\u001b[1;31mTypeError\u001b[0m: 'str' object does not support item assignment"
     ]
    }
   ],
   "source": [
    "# String도 역시 immutable\n",
    "name[1:] = \"ey\""
   ]
  },
  {
   "cell_type": "code",
   "execution_count": 21,
   "id": "76796d3d-edc0-46f3-b4e5-a3f8374da617",
   "metadata": {},
   "outputs": [
    {
     "name": "stdout",
     "output_type": "stream",
     "text": [
      "['Ham', 24, 'HSU', False]\n"
     ]
    }
   ],
   "source": [
    "# List 선언 방식: [value 1, value 2, ..., value n]\n",
    "my_info_list = [\"Ham\", 24, \"HSU\", False]\n",
    "print(my_info_list)"
   ]
  },
  {
   "cell_type": "code",
   "execution_count": 22,
   "id": "ac4d3078-15d6-4452-b2d8-b229eae86320",
   "metadata": {},
   "outputs": [
    {
     "name": "stdout",
     "output_type": "stream",
     "text": [
      "['Ham', 23, 'HSU', 'Kor']\n"
     ]
    }
   ],
   "source": [
    "# List는 값 변경(추가, 삭제, 수정)이 가능하다.\n",
    "my_info_list.append(\"Kor\")\n",
    "my_info_list.remove(False)\n",
    "my_info_list[1] = 23\n",
    "\n",
    "print(my_info_list)"
   ]
  },
  {
   "cell_type": "code",
   "execution_count": 23,
   "id": "ab821b15-b771-4193-b60f-65c72a11ceb2",
   "metadata": {},
   "outputs": [
    {
     "name": "stdout",
     "output_type": "stream",
     "text": [
      "{'HSU', 'Ham', 'Kor', 23}\n"
     ]
    },
    {
     "data": {
      "text/plain": [
       "{23, 'HSU', 'Ham', 'Kor'}"
      ]
     },
     "execution_count": 23,
     "metadata": {},
     "output_type": "execute_result"
    }
   ],
   "source": [
    "# Set 선언 방식: set(List 객체)\n",
    "my_info_set = set(my_info_list)\n",
    "print(my_info_set)\n",
    "\n",
    "my_info_set.add(\"Ham\")\n",
    "my_info_set"
   ]
  },
  {
   "cell_type": "code",
   "execution_count": 19,
   "id": "dcfb78b8-3f58-479f-82e5-366b3eca6bb7",
   "metadata": {},
   "outputs": [
    {
     "name": "stdout",
     "output_type": "stream",
     "text": [
      "{'name': ' HSU', 'established': 1940, 'public|private': 'private'}\n"
     ]
    }
   ],
   "source": [
    "# Dictionary 선언 방식: {'key 1':'value 1', ..., 'key n': 'value n'}\n",
    "hsu_dict = {'name' : ' HSU',\n",
    "            'established' : 1940,\n",
    "            'public|private' : 'private'}\n",
    "print(hsu_dict)"
   ]
  },
  {
   "cell_type": "code",
   "execution_count": 24,
   "id": "924c20ed-4f2a-465b-ad53-e5721e114315",
   "metadata": {},
   "outputs": [
    {
     "name": "stdout",
     "output_type": "stream",
     "text": [
      "{'name': ' HSU', 'established': 1940, 'public|private': 'private', 'num of students': 7588}\n"
     ]
    }
   ],
   "source": [
    "# Dictionary 값 추가\n",
    "hsu_dict['num of students'] = 7588\n",
    "print(hsu_dict)"
   ]
  },
  {
   "cell_type": "markdown",
   "id": "b82f3cdc-4ce2-4b53-a8ec-1ddb761be541",
   "metadata": {},
   "source": [
    "### 2. 리스트"
   ]
  },
  {
   "cell_type": "code",
   "execution_count": 2,
   "id": "8e747fd1-98a0-41a8-bb95-f955a72b8b4c",
   "metadata": {},
   "outputs": [
    {
     "name": "stdout",
     "output_type": "stream",
     "text": [
      "[2, 3, 5, 7, 11]\n",
      "[]\n"
     ]
    }
   ],
   "source": [
    "# 리스트 선언\n",
    "primes = [2, 3, 5, 7, 11]\n",
    "print(primes)\n",
    "\n",
    "empty_list=[]\n",
    "print(empty_list)"
   ]
  },
  {
   "cell_type": "code",
   "execution_count": 4,
   "id": "584338d4-4a25-4606-9e96-b23c577373a3",
   "metadata": {},
   "outputs": [
    {
     "name": "stdout",
     "output_type": "stream",
     "text": [
      "[1, 2, 3, 4, 10]\n",
      "['Jenny', 'Sam', 'Alexsis']\n",
      "['Jenny', 1, 2]\n",
      "[['a', 1], ['b', 2]]\n"
     ]
    }
   ],
   "source": [
    "# 다양한 유형의 데이터 저장\n",
    "numbers = [1,2,3,4,10]\n",
    "names = [\"Jenny\", \"Sam\", \"Alexsis\"]\n",
    "mixed = [\"Jenny\", 1,2]\n",
    "list_of_list = [['a',1], ['b',2]]\n",
    "\n",
    "print(numbers)\n",
    "print(names)\n",
    "print(mixed)\n",
    "print(list_of_list)"
   ]
  },
  {
   "cell_type": "code",
   "execution_count": 5,
   "id": "fe938eff-86ba-41bd-976d-e478eac88dc1",
   "metadata": {},
   "outputs": [
    {
     "name": "stdout",
     "output_type": "stream",
     "text": [
      "Roger\n",
      "Novak\n"
     ]
    }
   ],
   "source": [
    "# Zero-indexing\n",
    "names = ['Roger', 'Rafael', 'Andy', 'Novak']\n",
    "\n",
    "print(names[0])   # first data\n",
    "print(names[3])   # last(fourth) data"
   ]
  },
  {
   "cell_type": "code",
   "execution_count": 26,
   "id": "0d6be9bf-af82-4a4c-bdc0-2474ffc6d960",
   "metadata": {},
   "outputs": [
    {
     "name": "stdout",
     "output_type": "stream",
     "text": [
      "Andy\n"
     ]
    }
   ],
   "source": [
    "# Negative indexing\n",
    "print(names[-2])"
   ]
  },
  {
   "cell_type": "code",
   "execution_count": 11,
   "id": "a53fff52-35b9-471a-8f1d-dab4175daca3",
   "metadata": {},
   "outputs": [
    {
     "name": "stdout",
     "output_type": "stream",
     "text": [
      "['장공관', '필헌관', '소통관']\n",
      "<class 'list'>\n",
      "\n",
      "['장공관', '필헌관', '소통관']\n",
      "\n",
      "['생활관', '필헌관', '소통관']\n",
      "['만우관', '장공관', '필헌관', '소통관', '송암관', '늦봄관', '장준하통일관']\n",
      "\n",
      "['만우관', '장공관', '필헌관']\n",
      "['소통관', '송암관', '늦봄관', '장준하통일관']\n",
      "['만우관', '장공관', '필헌관', '소통관', '송암관', '늦봄관', '장준하통일관']\n"
     ]
    }
   ],
   "source": [
    "# 리스트 슬라이싱\n",
    "hsu_buildings = ['만우관', '장공관', '필헌관', '소통관', '송암관', '늦봄관', '장준하통일관']\n",
    "\n",
    "print(hsu_buildings[1:4])   # 1,2,3까지만 선택된다. 4번째는 미포함. 만우관 포함을 원하면 0번부터 인덱싱.\n",
    "print(type(hsu_buildings[1:4]))\n",
    "\n",
    "print(\"\")\n",
    "building_slice = hsu_buildings[1:4]\n",
    "print(building_slice)\n",
    "\n",
    "# 리스트 아이템 수정\n",
    "print(\"\")\n",
    "building_slice[0] = \"생활관\"\n",
    "print(building_slice)\n",
    "\n",
    "print(hsu_buildings)   # 원본 리스트에 변화 없음. 슬라이스는 별도의 객체.\n",
    "\n",
    "# NULL 인덱스\n",
    "print(\"\")\n",
    "print(hsu_buildings[:3])\n",
    "print(hsu_buildings[3:])\n",
    "print(hsu_buildings[:])"
   ]
  },
  {
   "cell_type": "code",
   "execution_count": 12,
   "id": "4af9c923-7b9d-4418-828e-b2b59db0fd02",
   "metadata": {},
   "outputs": [
    {
     "name": "stdout",
     "output_type": "stream",
     "text": [
      "[['해우리', '한식', '고S'], ['짜장명가', '중식', '중화비빔밥'], ['찌개동아리', '한식', '제육전골'], ['맘스터치', '양식', '싸이버거']]\n",
      "[['해우리', '한식', '해우라면'], ['짜장명가', '중식', '중화비빔밥'], ['찌개동아리', '한식', '제육전골'], ['맘스터치', '양식', '싸이버거']]\n",
      "중화비빔밥\n"
     ]
    }
   ],
   "source": [
    "# 다차원 리스트\n",
    "restaurants = [['해우리', '한식', '고S'], ['짜장명가', '중식', '중화비빔밥'], \n",
    "               ['찌개동아리', '한식', '제육전골'], ['맘스터치', '양식', '싸이버거']]\n",
    "print(restaurants)\n",
    "\n",
    "restaurants[0][2] = '해우라면'\n",
    "print(restaurants)\n",
    "\n",
    "print(restaurants[1][2])"
   ]
  },
  {
   "cell_type": "code",
   "execution_count": 13,
   "id": "65a7dfca-1e1f-4308-9694-7f55497e9dec",
   "metadata": {},
   "outputs": [
    {
     "name": "stdout",
     "output_type": "stream",
     "text": [
      "['cake', 'cookie', 'bread', 'biscuit', 'tart']\n"
     ]
    }
   ],
   "source": [
    "# 리스트 병합하기\n",
    "items_one = ['cake', 'cookie', 'bread']\n",
    "items_two = ['biscuit', 'tart']\n",
    "\n",
    "total_items = items_one + items_two\n",
    "print(total_items)\n",
    "\n",
    "# 참고 : 개별 아이템 추가(삽입)은 append() 또는 insert() 사용"
   ]
  },
  {
   "cell_type": "code",
   "execution_count": 20,
   "id": "db4b35fa-d7df-4a8f-b7df-0b4b5ca2008f",
   "metadata": {},
   "outputs": [
    {
     "name": "stdout",
     "output_type": "stream",
     "text": [
      "5\n",
      "3\n",
      "['daisies', 'periwinkle', 'tulips']\n",
      "['Karla', 'Maxium', 'Vikor', 'Martin', 'Isabella']\n",
      "['C programming', 'Data Structures']\n",
      "[1, 2, 3, 4]\n",
      "['늦봄관', '만우관', '소통관', '송암관', '장공관', '장준하통일관', '필헌관']\n",
      "[1, 2, 3, 4]\n",
      "[4, 2, 1, 3]\n"
     ]
    }
   ],
   "source": [
    "# 리스트에서 제공하는 메소드들\n",
    "\n",
    "# len() - 리스트 크기\n",
    "knapsack = [2, 4, 3, 7, 10]\n",
    "size = len(knapsack)\n",
    "print(size)\n",
    "\n",
    "# count() - 특정 아이템 개수\n",
    "backpack = [\"pencil\", \"pen\", \"notebook\", \"textbook\", \"pen\", \"highlighter\", \"pen\"]\n",
    "numPen = backpack.count(\"pen\")\n",
    "print(numPen)\n",
    "\n",
    "# append() - 아이템 끝에 추가\n",
    "orders = ['daisies', 'periwinkle']\n",
    "orders.append('tulips')\n",
    "print(orders)\n",
    "\n",
    "# insert() - 특정 위치에 추가\n",
    "store_line = ['Karla', 'Maxium', 'Martin', 'Isabella']\n",
    "store_line.insert(2, 'Vikor')\n",
    "print(store_line)\n",
    "\n",
    "# pop() - 특정 위치 아이템 삭제\n",
    "sw_subjects = [\"C programming\", \"Calculus\", \"Data Engineering\", \"Data Structures\", \"Machine Learning\"]\n",
    "sw_subjects.pop(2)\n",
    "sw_subjects.pop()   # null값은 마지막 아이템 삭제\n",
    "\n",
    "# remove() - 특정 아이템 삭제\n",
    "sw_subjects.remove(\"Calculus\")\n",
    "print(sw_subjects)\n",
    "\n",
    "# sw_subjects.remove(\"Algorithms\") - 없는 아이템 삭제 시도하면 에러\n",
    "\n",
    "# sort() - 아이템 정렬\n",
    "numbers = [4, 2, 1, 3]\n",
    "numbers.sort()\n",
    "print(numbers)\n",
    "\n",
    "hsu_buildings = ['만우관', '장공관', '필헌관', '소통관', '송암관', '늦봄관', '장준하통일관']\n",
    "hsu_buildings.sort()\n",
    "\n",
    "print(hsu_buildings)\n",
    "\n",
    "# sorted() - 정렬된 리스트를 새로운 객체로 생성하여 리턴. 원래 리스트 영향 X\n",
    "numbers = [4,2,1,3]\n",
    "sorted_numbers = sorted(numbers)\n",
    "print(sorted_numbers)\n",
    "print(numbers)"
   ]
  }
 ],
 "metadata": {
  "kernelspec": {
   "display_name": "Python 3 (ipykernel)",
   "language": "python",
   "name": "python3"
  },
  "language_info": {
   "codemirror_mode": {
    "name": "ipython",
    "version": 3
   },
   "file_extension": ".py",
   "mimetype": "text/x-python",
   "name": "python",
   "nbconvert_exporter": "python",
   "pygments_lexer": "ipython3",
   "version": "3.9.7"
  }
 },
 "nbformat": 4,
 "nbformat_minor": 5
}
