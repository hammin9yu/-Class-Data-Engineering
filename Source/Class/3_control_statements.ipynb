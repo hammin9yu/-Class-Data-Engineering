{
 "cells": [
  {
   "cell_type": "code",
   "execution_count": 8,
   "metadata": {},
   "outputs": [
    {
     "name": "stdout",
     "output_type": "stream",
     "text": [
      "흥민이는 정처기 시험을 응시했는가? True\n",
      "흥민이는 정처기 시험을 통과했는가? False\n",
      "<class 'bool'>\n",
      "\n",
      "True\n",
      "True\n",
      "False\n",
      "\n",
      "True\n",
      "True\n",
      "True\n",
      "\n",
      "False True True False\n"
     ]
    }
   ],
   "source": [
    "\"\"\"\n",
    "boolean variables\n",
    "\"\"\"\n",
    "\n",
    "#\n",
    "is_tested = True\n",
    "is_passed = False\n",
    "\n",
    "print(\"흥민이는 정처기 시험을 응시했는가?\", is_tested)\n",
    "print(\"흥민이는 정처기 시험을 통과했는가?\", is_passed)\n",
    "\n",
    "print(type(is_tested))\n",
    "\n",
    "#\n",
    "print(\"\")\n",
    "print(\"Yes\" == 'Yes')\n",
    "print((2>1) == (5<10))\n",
    "c='2'\n",
    "d=2\n",
    "print(c==d)\n",
    "\n",
    "#\n",
    "print(\"\")\n",
    "print(\"Yes\" != \"No\")\n",
    "val1 = 10\n",
    "val2 = 20\n",
    "print(val1 != val2)\n",
    "print((10>1) != (10>1000))\n",
    "\n",
    "#\n",
    "print(\"\")\n",
    "print(not True, not False, not 1>2, not 1==1)"
   ]
  },
  {
   "cell_type": "code",
   "execution_count": 4,
   "metadata": {},
   "outputs": [
    {
     "name": "stdout",
     "output_type": "stream",
     "text": [
      "말티푸\n",
      "True\n"
     ]
    }
   ],
   "source": [
    "\"\"\"\n",
    "Conditional statements (if / elif /else)\n",
    "\"\"\"\n",
    "\n",
    "puppy = \"maltese+poodle\"\n",
    "is_yes = False\n",
    "\n",
    "if puppy == \"maltese\" :\n",
    "    print(\"말티즈\")\n",
    "    is_yes = True\n",
    "    \n",
    "elif puppy == \"poodle\" :\n",
    "    print(\"푸들\")\n",
    "    is_yes = True\n",
    "    \n",
    "elif puppy == \"shihtzu\" :\n",
    "    print(\"시츄\")\n",
    "    is_yes = True\n",
    "    \n",
    "else :\n",
    "    print(\"말티푸\")\n",
    "    is_yes = True\n",
    "    \n",
    "print(is_yes)"
   ]
  },
  {
   "cell_type": "code",
   "execution_count": 6,
   "metadata": {},
   "outputs": [
    {
     "name": "stdout",
     "output_type": "stream",
     "text": [
      "[ERROR]: y is not declared\n",
      "continue...\n"
     ]
    }
   ],
   "source": [
    "\"\"\"\n",
    "Exception Handling\n",
    "\"\"\"\n",
    "\n",
    "x = 1\n",
    "\n",
    "try:\n",
    "    print(y)\n",
    "    print(x)   # y가 없어서 error 발생 -> except문으로 넘어가면서 print(x)는 스킵된다.\n",
    "except:\n",
    "    print(\"[ERROR]: y is not declared\")\n",
    "    \n",
    "print(\"continue...\")"
   ]
  },
  {
   "cell_type": "code",
   "execution_count": 9,
   "metadata": {},
   "outputs": [
    {
     "name": "stdout",
     "output_type": "stream",
     "text": [
      "1\n",
      "2\n",
      "3\n",
      "4\n",
      "5\n"
     ]
    }
   ],
   "source": [
    "\"\"\"\n",
    "for Loops\n",
    "\"\"\"\n",
    "\n",
    "nums = [1,2,3,4,5]\n",
    "\n",
    "for num in nums:\n",
    "    print(num)"
   ]
  },
  {
   "cell_type": "code",
   "execution_count": 13,
   "metadata": {},
   "outputs": [
    {
     "name": "stdout",
     "output_type": "stream",
     "text": [
      "0\n",
      "1\n",
      "2\n",
      "3\n",
      "4\n",
      "5\n",
      "6\n",
      "7\n",
      "8\n",
      "9\n",
      "1th Warning!\n",
      "2th Warning!\n",
      "3th Warning!\n",
      "4th Warning!\n",
      "5th Warning!\n",
      "range(0, 10)\n"
     ]
    },
    {
     "data": {
      "text/plain": [
       "range"
      ]
     },
     "execution_count": 13,
     "metadata": {},
     "output_type": "execute_result"
    }
   ],
   "source": [
    "# range()\n",
    "for num in range(10):\n",
    "    print(num)\n",
    "\n",
    "for num in range(5):\n",
    "    print(str(num + 1) + \"th Warning!\")\n",
    "    \n",
    "print(range(10))\n",
    "type(range(10))"
   ]
  },
  {
   "cell_type": "code",
   "execution_count": 15,
   "metadata": {
    "tags": []
   },
   "outputs": [
    {
     "name": "stdout",
     "output_type": "stream",
     "text": [
      "3\n",
      "23\n",
      "8\n"
     ]
    }
   ],
   "source": [
    "\"\"\"\n",
    "continue Keyword\n",
    "\"\"\"\n",
    "\n",
    "nums = [3, -1, -6, 23, 8, -28]\n",
    "\n",
    "for num in nums:\n",
    "    if num < 0:\n",
    "        continue   # 남은 코드들을 건너뛰고 다음 for문 반복 시작\n",
    "    print(num)"
   ]
  },
  {
   "cell_type": "code",
   "execution_count": 9,
   "metadata": {},
   "outputs": [
    {
     "name": "stdout",
     "output_type": "stream",
     "text": [
      "stage1 is completed.\n",
      "stage2 is completed.\n",
      "stage3 is completed.\n",
      "Game is OVER...\n",
      "Continue?\n"
     ]
    }
   ],
   "source": [
    "\"\"\"\n",
    "break Keyword\n",
    "\"\"\"\n",
    "\n",
    "game_plays = ['stage1', 'stage2', 'stage3', 'gameover', \n",
    "              'stage4', 'stage5']\n",
    "\n",
    "for play in game_plays:\n",
    "    if play == \"gameover\":\n",
    "        print(\"Game is OVER...\")\n",
    "        break\n",
    "    print(play + \" is completed.\")\n",
    "    \n",
    "print(\"Continue?\")"
   ]
  },
  {
   "cell_type": "code",
   "execution_count": 18,
   "metadata": {},
   "outputs": [
    {
     "name": "stdout",
     "output_type": "stream",
     "text": [
      "[1, 2, 3, 4, 5, 6, 7, 8, 9, 10]\n"
     ]
    }
   ],
   "source": [
    "\"\"\"\n",
    "List Comprehension\n",
    "\"\"\"\n",
    "\n",
    "# 1부터 10까지 -> range(10)은 0~9 -> 1씩 더해주자\n",
    "one_to_ten = [i+1 for i in range(10)]\n",
    "print(one_to_ten)"
   ]
  },
  {
   "cell_type": "code",
   "execution_count": 20,
   "metadata": {},
   "outputs": [
    {
     "name": "stdout",
     "output_type": "stream",
     "text": [
      "감독님한테 혼날 사람:\n",
      "['해리 케인', '탕기 은돔벨레']\n"
     ]
    }
   ],
   "source": [
    "\"\"\"\n",
    "List comprehension including conditions\n",
    "\"\"\"\n",
    "\n",
    "hotspurs = [['손흥민', 'A+'], ['해리 케인', 'F'], \n",
    "            ['탕기 은돔벨레', 'F'], ['델리 알리', 'B'], \n",
    "            ['루카스 모우라', 'B+'], ['이메르송', 'D']]\n",
    "\n",
    "poors = [player[0] for player in hotspurs if player[1] == 'F']   # player 자체는 [선수명, 평점]의 리스트 -> player[0]으로 선수명 인덱싱\n",
    "\n",
    "print(\"감독님한테 혼날 사람:\")\n",
    "print(poors)"
   ]
  },
  {
   "cell_type": "code",
   "execution_count": 27,
   "metadata": {},
   "outputs": [
    {
     "name": "stdout",
     "output_type": "stream",
     "text": [
      "[1, 2, 3, 4, 5, 6, 7, 8, 9]\n",
      "\n",
      "1 X 1 = 1\n",
      "1 X 2 = 2\n",
      "1 X 3 = 3\n",
      "1 X 4 = 4\n",
      "1 X 5 = 5\n",
      "1 X 6 = 6\n",
      "1 X 7 = 7\n",
      "1 X 8 = 8\n",
      "1 X 9 = 9\n",
      "\n",
      "2 X 1 = 2\n",
      "2 X 2 = 4\n",
      "2 X 3 = 6\n",
      "2 X 4 = 8\n",
      "2 X 5 = 10\n",
      "2 X 6 = 12\n",
      "2 X 7 = 14\n",
      "2 X 8 = 16\n",
      "2 X 9 = 18\n",
      "\n",
      "3 X 1 = 3\n",
      "3 X 2 = 6\n",
      "3 X 3 = 9\n",
      "3 X 4 = 12\n",
      "3 X 5 = 15\n",
      "3 X 6 = 18\n",
      "3 X 7 = 21\n",
      "3 X 8 = 24\n",
      "3 X 9 = 27\n",
      "\n",
      "4 X 1 = 4\n",
      "4 X 2 = 8\n",
      "4 X 3 = 12\n",
      "4 X 4 = 16\n",
      "4 X 5 = 20\n",
      "4 X 6 = 24\n",
      "4 X 7 = 28\n",
      "4 X 8 = 32\n",
      "4 X 9 = 36\n",
      "\n",
      "5 X 1 = 5\n",
      "5 X 2 = 10\n",
      "5 X 3 = 15\n",
      "5 X 4 = 20\n",
      "5 X 5 = 25\n",
      "5 X 6 = 30\n",
      "5 X 7 = 35\n",
      "5 X 8 = 40\n",
      "5 X 9 = 45\n",
      "\n",
      "6 X 1 = 6\n",
      "6 X 2 = 12\n",
      "6 X 3 = 18\n",
      "6 X 4 = 24\n",
      "6 X 5 = 30\n",
      "6 X 6 = 36\n",
      "6 X 7 = 42\n",
      "6 X 8 = 48\n",
      "6 X 9 = 54\n",
      "\n",
      "7 X 1 = 7\n",
      "7 X 2 = 14\n",
      "7 X 3 = 21\n",
      "7 X 4 = 28\n",
      "7 X 5 = 35\n",
      "7 X 6 = 42\n",
      "7 X 7 = 49\n",
      "7 X 8 = 56\n",
      "7 X 9 = 63\n",
      "\n",
      "8 X 1 = 8\n",
      "8 X 2 = 16\n",
      "8 X 3 = 24\n",
      "8 X 4 = 32\n",
      "8 X 5 = 40\n",
      "8 X 6 = 48\n",
      "8 X 7 = 56\n",
      "8 X 8 = 64\n",
      "8 X 9 = 72\n",
      "\n",
      "9 X 1 = 9\n",
      "9 X 2 = 18\n",
      "9 X 3 = 27\n",
      "9 X 4 = 36\n",
      "9 X 5 = 45\n",
      "9 X 6 = 54\n",
      "9 X 7 = 63\n",
      "9 X 8 = 72\n",
      "9 X 9 = 81\n"
     ]
    }
   ],
   "source": [
    "\"\"\"\n",
    "Nested Loops\n",
    "\"\"\"\n",
    "\n",
    "# 구구단 프로그램 (1~9)\n",
    "one_to_nine = [num+1 for num in range(9)]\n",
    "print(one_to_nine)\n",
    "\n",
    "for i in one_to_nine:\n",
    "    print(\"\")\n",
    "    for j in one_to_nine:\n",
    "        print(\"%d X %d = %d\" % (i, j, i*j))"
   ]
  },
  {
   "cell_type": "code",
   "execution_count": 11,
   "metadata": {},
   "outputs": [
    {
     "name": "stdout",
     "output_type": "stream",
     "text": [
      "참치김밥 냠냠\n",
      "순대 냠냠\n",
      "로제떡볶이 냠냠\n",
      "김말이 냠냠\n",
      "배부르다.. 여기까지\n"
     ]
    }
   ],
   "source": [
    "# while문 - 조건식이 True일 때 반복문 실행\n",
    "hungry = True\n",
    "foods_on_table = [\"참치김밥\", \"순대\", \"로제떡볶이\", \"김말이\", \"오뎅\", \"단무지\", \"고로케\"]\n",
    "food_num = 7   # 음식 수\n",
    "ate_num = 0   # 먹은 음식 수\n",
    "\n",
    "while ate_num < 4:\n",
    "    print(foods_on_table[ate_num] + \" 냠냠\")\n",
    "    ate_num += 1\n",
    "    \n",
    "print(\"배부르다.. 여기까지\")"
   ]
  },
  {
   "cell_type": "code",
   "execution_count": null,
   "metadata": {},
   "outputs": [],
   "source": [
    "\"\"\"\n",
    "Infinite Loops\n",
    "\"\"\"\n",
    "\n",
    "x = 1\n",
    "y = 1\n",
    "while x < 5:\n",
    "    print(\"Doing Something\")\n",
    "    y += 1\n",
    "    if y > 5:\n",
    "        print(\"Why doesn't it end?\")"
   ]
  }
 ],
 "metadata": {
  "kernelspec": {
   "display_name": "Python 3 (ipykernel)",
   "language": "python",
   "name": "python3"
  },
  "language_info": {
   "codemirror_mode": {
    "name": "ipython",
    "version": 3
   },
   "file_extension": ".py",
   "mimetype": "text/x-python",
   "name": "python",
   "nbconvert_exporter": "python",
   "pygments_lexer": "ipython3",
   "version": "3.9.7"
  }
 },
 "nbformat": 4,
 "nbformat_minor": 4
}
