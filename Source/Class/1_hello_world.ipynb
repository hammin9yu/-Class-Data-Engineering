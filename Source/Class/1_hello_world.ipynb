{
 "cells": [
  {
   "cell_type": "markdown",
   "id": "30806910-291c-4fe5-9455-4b646cf1f75c",
   "metadata": {},
   "source": [
    "ESC + A(bove)"
   ]
  },
  {
   "cell_type": "code",
   "execution_count": null,
   "id": "cd909767-6257-4d0a-ab08-e9b5e33f08da",
   "metadata": {},
   "outputs": [],
   "source": [
    "#단축키 practice"
   ]
  },
  {
   "cell_type": "markdown",
   "id": "842cb518-e652-4836-83d0-723c6ea8c63e",
   "metadata": {},
   "source": [
    "ESC + B(ottom)"
   ]
  },
  {
   "cell_type": "markdown",
   "id": "ed3277ee-efcc-4587-91ee-1e1674058bbb",
   "metadata": {},
   "source": [
    "# Title Level_1\n",
    "## Title Level_2\n",
    "### Title Level_3\n",
    "This code make ...\n",
    "+ variable\n",
    "+ for statement\n",
    "+ etc\n",
    "\n",
    "-> 마크다운 잘 쓰는게 좋다"
   ]
  },
  {
   "cell_type": "code",
   "execution_count": 12,
   "id": "481323c4",
   "metadata": {},
   "outputs": [
    {
     "name": "stdout",
     "output_type": "stream",
     "text": [
      "Hello World\n",
      "100\n",
      "220908\n",
      "My name is Ham\n"
     ]
    }
   ],
   "source": [
    "\"\"\"\n",
    "print() function\n",
    "\"\"\"\n",
    "\n",
    "print(\"Hello World\")\n",
    "\n",
    "print(100)\n",
    "\n",
    "date = 220908\n",
    "print(date)\n",
    "\n",
    "intro = \"My name is\"\n",
    "name = \"Ham\"\n",
    "\n",
    "print(intro + \" \" + name)"
   ]
  },
  {
   "cell_type": "code",
   "execution_count": 13,
   "id": "3a339009",
   "metadata": {},
   "outputs": [],
   "source": [
    "\"\"\"\n",
    "Variables\n",
    "\"\"\"\n",
    "\n",
    "user_name = \"Ham\"\n",
    "user_id = 201852033\n",
    "user_email = \"gkaalsrb08@hs.ac.kr\"\n",
    "is_student = True"
   ]
  },
  {
   "cell_type": "code",
   "execution_count": 19,
   "id": "ae01a501",
   "metadata": {},
   "outputs": [
    {
     "name": "stdout",
     "output_type": "stream",
     "text": [
      "x = 1\n",
      "address of x = 2278107408688\n",
      "x = 2\n",
      "address of x = 2278107408720\n"
     ]
    },
    {
     "data": {
      "text/plain": [
       "2278107408720"
      ]
     },
     "execution_count": 19,
     "metadata": {},
     "output_type": "execute_result"
    }
   ],
   "source": [
    "\"\"\"\n",
    "Variables: Assignment\n",
    "\"\"\"\n",
    "\n",
    "# 변수 선언 및 주소 확인\n",
    "x = 1\n",
    "print(\"x =\", x)\n",
    "print(\"address of x =\", id(x))   # id() : 주소 찾기\n",
    "\n",
    "# 변수 재할당 및 주소 확인\n",
    "x = 2\n",
    "print(\"x =\", x)\n",
    "print(\"address of x =\",id(x))\n",
    "\n",
    "id(2)"
   ]
  },
  {
   "cell_type": "code",
   "execution_count": 22,
   "id": "1c8e963f",
   "metadata": {},
   "outputs": [],
   "source": [
    "\"\"\"\n",
    "Variables: Naming Conventions\n",
    "\"\"\"\n",
    "\n",
    "# 올바른 변수명 예:\n",
    "myvar = \"John\"\n",
    "my_var = \"John\"\n",
    "_my_var = \"John\"\n",
    "myVar = \"John\"\n",
    "MYVAR = \"John\"\n",
    "myvar2 = \"John\""
   ]
  },
  {
   "cell_type": "code",
   "execution_count": 24,
   "id": "013316f9",
   "metadata": {},
   "outputs": [
    {
     "ename": "SyntaxError",
     "evalue": "invalid syntax (Temp/ipykernel_10216/1640798638.py, line 2)",
     "output_type": "error",
     "traceback": [
      "\u001b[1;36m  File \u001b[1;32m\"C:\\Users\\ADMINI~1\\AppData\\Local\\Temp/ipykernel_10216/1640798638.py\"\u001b[1;36m, line \u001b[1;32m2\u001b[0m\n\u001b[1;33m    2myvar = \"John\"   # 맨 앞자리 숫자\u001b[0m\n\u001b[1;37m     ^\u001b[0m\n\u001b[1;31mSyntaxError\u001b[0m\u001b[1;31m:\u001b[0m invalid syntax\n"
     ]
    }
   ],
   "source": [
    "# 잘못된 변수명 예:\n",
    "2myvar = \"John\"   # 맨 앞자리 숫자\n",
    "my-var = \"John\"   # _ 이외의 특수문자\n",
    "my var = \"John\"   # 띄어쓰기(공백)"
   ]
  },
  {
   "cell_type": "code",
   "execution_count": 25,
   "id": "831f8695",
   "metadata": {},
   "outputs": [
    {
     "data": {
      "text/plain": [
       "'\\nMulti-line comments\\n\\nThis code is for learning the basics of python\\n- operators\\n- variables\\n- etc\\n'"
      ]
     },
     "execution_count": 25,
     "metadata": {},
     "output_type": "execute_result"
    }
   ],
   "source": [
    "\"\"\"\n",
    "Comments\n",
    "\"\"\"\n",
    "\n",
    "# Define the name\n",
    "name = \"Ham\"   # Define the name\n",
    "\"\"\"\n",
    "Multi-line comments\n",
    "\n",
    "This code is for learning the basics of python\n",
    "- operators\n",
    "- variables\n",
    "- etc\n",
    "\"\"\""
   ]
  },
  {
   "cell_type": "code",
   "execution_count": 30,
   "id": "84b8336e",
   "metadata": {},
   "outputs": [
    {
     "name": "stdout",
     "output_type": "stream",
     "text": [
      "14\n",
      "6\n",
      "15\n",
      "2.0\n",
      "1\n",
      "32\n"
     ]
    }
   ],
   "source": [
    "\"\"\"\n",
    "Arithmetic Operations\n",
    "\"\"\"\n",
    "\n",
    "print(10 + 4)\n",
    "print(10 - 4)\n",
    "print(5 * 3)\n",
    "print(4 / 2)\n",
    "print(10 % 3)\n",
    "print(2 ** 5)"
   ]
  },
  {
   "cell_type": "code",
   "execution_count": 33,
   "id": "8e869261",
   "metadata": {},
   "outputs": [
    {
     "data": {
      "text/plain": [
       "10"
      ]
     },
     "execution_count": 33,
     "metadata": {},
     "output_type": "execute_result"
    }
   ],
   "source": [
    "\"\"\"\n",
    "Plus-Equals Operations\n",
    "\"\"\"\n",
    "\n",
    "counter = 0\n",
    "counter += 10\n",
    "counter"
   ]
  },
  {
   "cell_type": "code",
   "execution_count": 34,
   "id": "5320562a",
   "metadata": {},
   "outputs": [
    {
     "ename": "SyntaxError",
     "evalue": "EOL while scanning string literal (Temp/ipykernel_10216/3681589636.py, line 6)",
     "output_type": "error",
     "traceback": [
      "\u001b[1;36m  File \u001b[1;32m\"C:\\Users\\ADMINI~1\\AppData\\Local\\Temp/ipykernel_10216/3681589636.py\"\u001b[1;36m, line \u001b[1;32m6\u001b[0m\n\u001b[1;33m    print(\"Youyaho')\u001b[0m\n\u001b[1;37m                    ^\u001b[0m\n\u001b[1;31mSyntaxError\u001b[0m\u001b[1;31m:\u001b[0m EOL while scanning string literal\n"
     ]
    }
   ],
   "source": [
    "\"\"\"\n",
    "Errors\n",
    "\"\"\"\n",
    "\n",
    "# First error\n",
    "print(\"Youyaho')"
   ]
  },
  {
   "cell_type": "code",
   "execution_count": 35,
   "id": "ff2f9051",
   "metadata": {},
   "outputs": [
    {
     "ename": "SyntaxError",
     "evalue": "invalid syntax (Temp/ipykernel_10216/623798421.py, line 3)",
     "output_type": "error",
     "traceback": [
      "\u001b[1;36m  File \u001b[1;32m\"C:\\Users\\ADMINI~1\\AppData\\Local\\Temp/ipykernel_10216/623798421.py\"\u001b[1;36m, line \u001b[1;32m3\u001b[0m\n\u001b[1;33m    If age < 20:\u001b[0m\n\u001b[1;37m       ^\u001b[0m\n\u001b[1;31mSyntaxError\u001b[0m\u001b[1;31m:\u001b[0m invalid syntax\n"
     ]
    }
   ],
   "source": [
    "# SyntaxError\n",
    "age = 24\n",
    "If age < 20:\n",
    "    print(\"You are young\")\n",
    "else:\n",
    "    print(\"You are not young\")"
   ]
  },
  {
   "cell_type": "code",
   "execution_count": 36,
   "id": "34b555e1",
   "metadata": {},
   "outputs": [
    {
     "ename": "NameError",
     "evalue": "name 'my_country' is not defined",
     "output_type": "error",
     "traceback": [
      "\u001b[1;31m---------------------------------------------------------------------------\u001b[0m",
      "\u001b[1;31mNameError\u001b[0m                                 Traceback (most recent call last)",
      "\u001b[1;32mC:\\Users\\ADMINI~1\\AppData\\Local\\Temp/ipykernel_10216/643205032.py\u001b[0m in \u001b[0;36m<module>\u001b[1;34m\u001b[0m\n\u001b[0;32m      1\u001b[0m \u001b[1;31m# NameError\u001b[0m\u001b[1;33m\u001b[0m\u001b[1;33m\u001b[0m\u001b[0m\n\u001b[1;32m----> 2\u001b[1;33m \u001b[0mprint\u001b[0m\u001b[1;33m(\u001b[0m\u001b[0mmy_country\u001b[0m\u001b[1;33m)\u001b[0m\u001b[1;33m\u001b[0m\u001b[1;33m\u001b[0m\u001b[0m\n\u001b[0m",
      "\u001b[1;31mNameError\u001b[0m: name 'my_country' is not defined"
     ]
    }
   ],
   "source": [
    "# NameError\n",
    "print(my_country)"
   ]
  },
  {
   "cell_type": "code",
   "execution_count": 37,
   "id": "8ddf57ab",
   "metadata": {},
   "outputs": [
    {
     "ename": "ZeroDivisionError",
     "evalue": "division by zero",
     "output_type": "error",
     "traceback": [
      "\u001b[1;31m---------------------------------------------------------------------------\u001b[0m",
      "\u001b[1;31mZeroDivisionError\u001b[0m                         Traceback (most recent call last)",
      "\u001b[1;32mC:\\Users\\ADMINI~1\\AppData\\Local\\Temp/ipykernel_10216/678936931.py\u001b[0m in \u001b[0;36m<module>\u001b[1;34m\u001b[0m\n\u001b[0;32m      3\u001b[0m \u001b[0mdenominator\u001b[0m \u001b[1;33m=\u001b[0m \u001b[1;36m0\u001b[0m   \u001b[1;31m#분모\u001b[0m\u001b[1;33m\u001b[0m\u001b[1;33m\u001b[0m\u001b[0m\n\u001b[0;32m      4\u001b[0m \u001b[1;33m\u001b[0m\u001b[0m\n\u001b[1;32m----> 5\u001b[1;33m \u001b[0mbad_result\u001b[0m \u001b[1;33m=\u001b[0m \u001b[0mnumerator\u001b[0m \u001b[1;33m/\u001b[0m \u001b[0mdenominator\u001b[0m\u001b[1;33m\u001b[0m\u001b[1;33m\u001b[0m\u001b[0m\n\u001b[0m",
      "\u001b[1;31mZeroDivisionError\u001b[0m: division by zero"
     ]
    }
   ],
   "source": [
    "# ZeroDivisionError\n",
    "numerator = 100   #분자\n",
    "denominator = 0   #분모\n",
    "\n",
    "bad_result = numerator / denominator"
   ]
  },
  {
   "cell_type": "code",
   "execution_count": null,
   "id": "d839797a",
   "metadata": {},
   "outputs": [],
   "source": [
    "\"\"\"\n",
    "Data Types: Integers\n",
    "\"\"\"\n"
   ]
  },
  {
   "cell_type": "code",
   "execution_count": null,
   "id": "476732c7",
   "metadata": {},
   "outputs": [],
   "source": [
    "\"\"\"\n",
    "Data Types: Real Numbers\n",
    "\"\"\"\n"
   ]
  },
  {
   "cell_type": "code",
   "execution_count": 1,
   "id": "42db3f48",
   "metadata": {},
   "outputs": [
    {
     "data": {
      "text/plain": [
       "'Ham Baseball Lee DH'"
      ]
     },
     "execution_count": 1,
     "metadata": {},
     "output_type": "execute_result"
    }
   ],
   "source": [
    "\"\"\"\n",
    "Data Types: Strings\n",
    "\"\"\"\n",
    "\n",
    "favorite_moto = \"Ham \"\n",
    "favorite_sports = \"Baseball \"\n",
    "favorite_athelete = \"Lee DH\"\n",
    "\n",
    "favorites = favorite_moto + favorite_sports + favorite_athelete\n",
    "favorites"
   ]
  },
  {
   "cell_type": "code",
   "execution_count": null,
   "id": "d73e904b-0f2d-41ad-a039-77e2cffe7150",
   "metadata": {},
   "outputs": [],
   "source": []
  }
 ],
 "metadata": {
  "kernelspec": {
   "display_name": "Python 3 (ipykernel)",
   "language": "python",
   "name": "python3"
  },
  "language_info": {
   "codemirror_mode": {
    "name": "ipython",
    "version": 3
   },
   "file_extension": ".py",
   "mimetype": "text/x-python",
   "name": "python",
   "nbconvert_exporter": "python",
   "pygments_lexer": "ipython3",
   "version": "3.9.7"
  }
 },
 "nbformat": 4,
 "nbformat_minor": 5
}
