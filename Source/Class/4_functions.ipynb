{
 "cells": [
  {
   "cell_type": "markdown",
   "metadata": {},
   "source": [
    "## 실습 #4: 함수(functions)"
   ]
  },
  {
   "cell_type": "code",
   "execution_count": 3,
   "metadata": {},
   "outputs": [
    {
     "name": "stdout",
     "output_type": "stream",
     "text": [
      "2\n",
      "4\n"
     ]
    }
   ],
   "source": [
    "# 함수 정의 및 테스트\n",
    "def my_function(x):\n",
    "    return x + 1\n",
    "\n",
    "print(my_function(1))\n",
    "\n",
    "x = 3\n",
    "print(my_function(x))"
   ]
  },
  {
   "cell_type": "code",
   "execution_count": 4,
   "metadata": {},
   "outputs": [
    {
     "name": "stdout",
     "output_type": "stream",
     "text": [
      "3\n"
     ]
    }
   ],
   "source": [
    "# 메서드 정의 및 테스트\n",
    "class my_class:\n",
    "    def my_method(self):\n",
    "        return x + 1\n",
    "    \n",
    "# 인스턴스(객체) - cf)오브젝트라는 것은 클래스에서 생성된 실체, 하나의 예\n",
    "class_one = my_class()\n",
    "\n",
    "x = 2\n",
    "print(class_one.my_method())"
   ]
  },
  {
   "cell_type": "code",
   "execution_count": 6,
   "metadata": {},
   "outputs": [
    {
     "name": "stdout",
     "output_type": "stream",
     "text": [
      "Hello everyone, my name is H, I was born in 99 and I live in Korea.\n"
     ]
    }
   ],
   "source": [
    "# 매개변수(parameters)\n",
    "def introduce_myself(name, birthyear, city):\n",
    "    print(\"Hello everyone, my name is %s, I was born in %d and I live in %s.\" % (name, birthyear, city))\n",
    "    \n",
    "introduce_myself(\"H\", 99, \"Korea\")"
   ]
  },
  {
   "cell_type": "code",
   "execution_count": 20,
   "metadata": {},
   "outputs": [
    {
     "name": "stdout",
     "output_type": "stream",
     "text": [
      "2021 is not a leap year.\n"
     ]
    }
   ],
   "source": [
    "# return 키워드\n",
    "# 예제: leap year(윤년)\n",
    "def check_leap_year(year):\n",
    "    if year % 4 == 0:\n",
    "        return str(year) + \" is a leap year.\"\n",
    "    else:\n",
    "        return str(year) + \" is not a leap year.\"\n",
    "    \n",
    "year_to_check = 2021\n",
    "\n",
    "returned_value = check_leap_year(year_to_check)\n",
    "print(returned_value)"
   ]
  },
  {
   "cell_type": "code",
   "execution_count": 8,
   "metadata": {},
   "outputs": [
    {
     "name": "stdout",
     "output_type": "stream",
     "text": [
      "9 16 25\n"
     ]
    }
   ],
   "source": [
    "# 여러 개의 값들을 반환\n",
    "def square_point(x, y, z):\n",
    "    x_squared = x ** 2\n",
    "    y_squared = y ** 2\n",
    "    z_squared = z ** 2\n",
    "    return x_squared, y_squared, z_squared\n",
    "\n",
    "first, second, third = square_point(3,4,5)\n",
    "\n",
    "print(first, second, third)"
   ]
  },
  {
   "cell_type": "code",
   "execution_count": 10,
   "metadata": {},
   "outputs": [
    {
     "name": "stdout",
     "output_type": "stream",
     "text": [
      "Hello\n",
      "Hello\n"
     ]
    }
   ],
   "source": [
    "# 전역변수\n",
    "a = \"Hello\"\n",
    "\n",
    "def print_a():\n",
    "    print(a)\n",
    "    \n",
    "print(a)   # 함수 밖 코드\n",
    "print_a()   # 함수 호출"
   ]
  },
  {
   "cell_type": "code",
   "execution_count": 15,
   "metadata": {},
   "outputs": [
    {
     "name": "stdout",
     "output_type": "stream",
     "text": [
      "5\n",
      "2\n",
      "1\n"
     ]
    },
    {
     "ename": "NameError",
     "evalue": "name 'b' is not defined",
     "output_type": "error",
     "traceback": [
      "\u001b[1;31m---------------------------------------------------------------------------\u001b[0m",
      "\u001b[1;31mNameError\u001b[0m                                 Traceback (most recent call last)",
      "\u001b[1;32mC:\\Users\\ADMINI~1\\AppData\\Local\\Temp/ipykernel_15992/76043673.py\u001b[0m in \u001b[0;36m<module>\u001b[1;34m\u001b[0m\n\u001b[0;32m     11\u001b[0m \u001b[0mprint\u001b[0m\u001b[1;33m(\u001b[0m\u001b[0ma\u001b[0m\u001b[1;33m)\u001b[0m\u001b[1;33m\u001b[0m\u001b[1;33m\u001b[0m\u001b[0m\n\u001b[0;32m     12\u001b[0m \u001b[0mf1\u001b[0m\u001b[1;33m(\u001b[0m\u001b[1;33m)\u001b[0m\u001b[1;33m\u001b[0m\u001b[1;33m\u001b[0m\u001b[0m\n\u001b[1;32m---> 13\u001b[1;33m \u001b[0mprint\u001b[0m\u001b[1;33m(\u001b[0m\u001b[0mb\u001b[0m\u001b[1;33m)\u001b[0m\u001b[1;33m\u001b[0m\u001b[1;33m\u001b[0m\u001b[0m\n\u001b[0m",
      "\u001b[1;31mNameError\u001b[0m: name 'b' is not defined"
     ]
    }
   ],
   "source": [
    "# 지역변수\n",
    "a = 5\n",
    "c = 1\n",
    "\n",
    "def f1():\n",
    "    a = 2\n",
    "    b = 4\n",
    "    print(a)\n",
    "    print(c)\n",
    "    \n",
    "print(a)   # 함수 밖 출력 : 전역변수 값\n",
    "f1()   # 함수 호출\n",
    "print(b)   # 지역변수는 못 읽음"
   ]
  },
  {
   "cell_type": "code",
   "execution_count": 16,
   "metadata": {},
   "outputs": [
    {
     "name": "stdout",
     "output_type": "stream",
     "text": [
      "7\n"
     ]
    },
    {
     "ename": "NameError",
     "evalue": "name 'value' is not defined",
     "output_type": "error",
     "traceback": [
      "\u001b[1;31m---------------------------------------------------------------------------\u001b[0m",
      "\u001b[1;31mNameError\u001b[0m                                 Traceback (most recent call last)",
      "\u001b[1;32mC:\\Users\\ADMINI~1\\AppData\\Local\\Temp/ipykernel_15992/125304555.py\u001b[0m in \u001b[0;36m<module>\u001b[1;34m\u001b[0m\n\u001b[0;32m      4\u001b[0m \u001b[1;33m\u001b[0m\u001b[0m\n\u001b[0;32m      5\u001b[0m \u001b[0mmy_func\u001b[0m\u001b[1;33m(\u001b[0m\u001b[1;36m7\u001b[0m\u001b[1;33m)\u001b[0m\u001b[1;33m\u001b[0m\u001b[1;33m\u001b[0m\u001b[0m\n\u001b[1;32m----> 6\u001b[1;33m \u001b[0mprint\u001b[0m\u001b[1;33m(\u001b[0m\u001b[0mvalue\u001b[0m\u001b[1;33m)\u001b[0m\u001b[1;33m\u001b[0m\u001b[1;33m\u001b[0m\u001b[0m\n\u001b[0m",
      "\u001b[1;31mNameError\u001b[0m: name 'value' is not defined"
     ]
    }
   ],
   "source": [
    "# 함수 매개변수 = 지역변수\n",
    "def my_func(value):\n",
    "    print(value)\n",
    "    \n",
    "my_func(7)\n",
    "print(value)"
   ]
  },
  {
   "cell_type": "code",
   "execution_count": 19,
   "metadata": {},
   "outputs": [
    {
     "name": "stdout",
     "output_type": "stream",
     "text": [
      "Height = 1\n",
      "Width = 2\n",
      "Depth = 3\n",
      "6\n",
      "Height = 1\n",
      "Width = 2\n",
      "Depth = 3\n",
      "6\n",
      "Height = 3\n",
      "Width = 1\n",
      "Depth = 1\n",
      "3\n"
     ]
    }
   ],
   "source": [
    "# 키워드 인자(keyword arguments)와 디폴트 값\n",
    "def findvolume(height=1, width=1, depth=1):\n",
    "    print(\"Height = %s\" % (height))\n",
    "    print(\"Width = %s\" % (width))\n",
    "    print(\"Depth = %s\" % (depth))\n",
    "    return height * width * depth\n",
    "\n",
    "print(findvolume(1,2,3))\n",
    "print(findvolume(width=2, height=1, depth=3))\n",
    "print(findvolume(height=3))"
   ]
  }
 ],
 "metadata": {
  "kernelspec": {
   "display_name": "Python 3 (ipykernel)",
   "language": "python",
   "name": "python3"
  },
  "language_info": {
   "codemirror_mode": {
    "name": "ipython",
    "version": 3
   },
   "file_extension": ".py",
   "mimetype": "text/x-python",
   "name": "python",
   "nbconvert_exporter": "python",
   "pygments_lexer": "ipython3",
   "version": "3.9.7"
  }
 },
 "nbformat": 4,
 "nbformat_minor": 4
}
